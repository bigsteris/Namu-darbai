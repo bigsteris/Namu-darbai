{
  "cells": [
    {
      "cell_type": "markdown",
      "metadata": {
        "id": "view-in-github",
        "colab_type": "text"
      },
      "source": [
        "<a href=\"https://colab.research.google.com/github/bigsteris/Namu-darbai/blob/main/3_Nam%C5%B3_darbas.ipynb\" target=\"_parent\"><img src=\"https://colab.research.google.com/assets/colab-badge.svg\" alt=\"Open In Colab\"/></a>"
      ]
    },
    {
      "cell_type": "code",
      "execution_count": 2,
      "metadata": {
        "id": "gxqvnorGIRr_",
        "colab": {
          "base_uri": "https://localhost:8080/"
        },
        "outputId": "ff9c0121-01b1-4fe2-d0ed-aa2daa12a864"
      },
      "outputs": [
        {
          "output_type": "stream",
          "name": "stdout",
          "text": [
            "Mounted at /content/drive\n"
          ]
        }
      ],
      "source": [
        "from  sklearn import datasets\n",
        "import pandas as pd\n",
        "import numpy as np\n",
        "import seaborn as sns\n",
        "from sklearn.model_selection import train_test_split\n",
        "from sklearn import metrics\n",
        "from matplotlib import pyplot as plt\n",
        "from sklearn.neural_network import MLPClassifier\n",
        "from sklearn.tree import DecisionTreeClassifier\n",
        "from sklearn.neighbors import KNeighborsClassifier\n",
        "from sklearn.naive_bayes import GaussianNB\n",
        "from sklearn.linear_model import LogisticRegression\n",
        "from sklearn.ensemble import RandomForestClassifier, StackingClassifier\n",
        "from sklearn.ensemble import BaggingClassifier\n",
        "from sklearn.ensemble import AdaBoostClassifier\n",
        "from sklearn.metrics import confusion_matrix, ConfusionMatrixDisplay\n",
        "from sklearn.metrics import accuracy_score, precision_score\n",
        "from sklearn.metrics import recall_score, f1_score\n",
        "from sklearn.metrics import roc_auc_score\n",
        "from sklearn.metrics import roc_curve, precision_recall_curve, classification_report\n",
        "from sklearn import svm\n",
        "from numpy.random import seed\n",
        "\n",
        "from google.colab import drive\n",
        "drive.mount('/content/drive')"
      ]
    },
    {
      "cell_type": "markdown",
      "metadata": {
        "id": "fDMi9snGp0zu"
      },
      "source": [
        "# **RAND=22310 # should be your student code abcd**"
      ]
    },
    {
      "cell_type": "code",
      "execution_count": 3,
      "metadata": {
        "id": "BFA9qlmypF2T"
      },
      "outputs": [],
      "source": [
        "RAND=2106 # should be your student code abcd\n",
        "seed(RAND)"
      ]
    },
    {
      "cell_type": "markdown",
      "metadata": {
        "id": "60BcbaAyNRNs"
      },
      "source": []
    },
    {
      "cell_type": "markdown",
      "metadata": {
        "id": "Z2daOMRPcl97"
      },
      "source": [
        "from https://drive.google.com/file/d/1-jrwZmZ3kqH-3JbckqbxEsr7EjW27IDJ/view?usp=sharing copy file archive.zip to your folder."
      ]
    },
    {
      "cell_type": "code",
      "execution_count": 34,
      "metadata": {
        "id": "GCg5qLcsmMkb"
      },
      "outputs": [],
      "source": [
        "df = pd.read_csv('/content/drive/MyDrive/IVSP/2ND/adult.csv')"
      ]
    },
    {
      "cell_type": "code",
      "execution_count": null,
      "metadata": {
        "colab": {
          "base_uri": "https://localhost:8080/",
          "height": 206
        },
        "id": "dNWO_0cnmuGh",
        "outputId": "d26051b6-7f27-4e60-aa97-ad4870828b0e"
      },
      "outputs": [
        {
          "output_type": "execute_result",
          "data": {
            "text/plain": [
              "   age workclass  fnlwgt     education  education.num marital.status  \\\n",
              "0   90         ?   77053       HS-grad              9        Widowed   \n",
              "1   82   Private  132870       HS-grad              9        Widowed   \n",
              "2   66         ?  186061  Some-college             10        Widowed   \n",
              "3   54   Private  140359       7th-8th              4       Divorced   \n",
              "4   41   Private  264663  Some-college             10      Separated   \n",
              "\n",
              "          occupation   relationship   race     sex  capital.gain  \\\n",
              "0                  ?  Not-in-family  White  Female             0   \n",
              "1    Exec-managerial  Not-in-family  White  Female             0   \n",
              "2                  ?      Unmarried  Black  Female             0   \n",
              "3  Machine-op-inspct      Unmarried  White  Female             0   \n",
              "4     Prof-specialty      Own-child  White  Female             0   \n",
              "\n",
              "   capital.loss  hours.per.week native.country income  \n",
              "0          4356              40  United-States  <=50K  \n",
              "1          4356              18  United-States  <=50K  \n",
              "2          4356              40  United-States  <=50K  \n",
              "3          3900              40  United-States  <=50K  \n",
              "4          3900              40  United-States  <=50K  "
            ],
            "text/html": [
              "\n",
              "  <div id=\"df-524fc72e-162e-47f6-ae83-fa44ded38680\" class=\"colab-df-container\">\n",
              "    <div>\n",
              "<style scoped>\n",
              "    .dataframe tbody tr th:only-of-type {\n",
              "        vertical-align: middle;\n",
              "    }\n",
              "\n",
              "    .dataframe tbody tr th {\n",
              "        vertical-align: top;\n",
              "    }\n",
              "\n",
              "    .dataframe thead th {\n",
              "        text-align: right;\n",
              "    }\n",
              "</style>\n",
              "<table border=\"1\" class=\"dataframe\">\n",
              "  <thead>\n",
              "    <tr style=\"text-align: right;\">\n",
              "      <th></th>\n",
              "      <th>age</th>\n",
              "      <th>workclass</th>\n",
              "      <th>fnlwgt</th>\n",
              "      <th>education</th>\n",
              "      <th>education.num</th>\n",
              "      <th>marital.status</th>\n",
              "      <th>occupation</th>\n",
              "      <th>relationship</th>\n",
              "      <th>race</th>\n",
              "      <th>sex</th>\n",
              "      <th>capital.gain</th>\n",
              "      <th>capital.loss</th>\n",
              "      <th>hours.per.week</th>\n",
              "      <th>native.country</th>\n",
              "      <th>income</th>\n",
              "    </tr>\n",
              "  </thead>\n",
              "  <tbody>\n",
              "    <tr>\n",
              "      <th>0</th>\n",
              "      <td>90</td>\n",
              "      <td>?</td>\n",
              "      <td>77053</td>\n",
              "      <td>HS-grad</td>\n",
              "      <td>9</td>\n",
              "      <td>Widowed</td>\n",
              "      <td>?</td>\n",
              "      <td>Not-in-family</td>\n",
              "      <td>White</td>\n",
              "      <td>Female</td>\n",
              "      <td>0</td>\n",
              "      <td>4356</td>\n",
              "      <td>40</td>\n",
              "      <td>United-States</td>\n",
              "      <td>&lt;=50K</td>\n",
              "    </tr>\n",
              "    <tr>\n",
              "      <th>1</th>\n",
              "      <td>82</td>\n",
              "      <td>Private</td>\n",
              "      <td>132870</td>\n",
              "      <td>HS-grad</td>\n",
              "      <td>9</td>\n",
              "      <td>Widowed</td>\n",
              "      <td>Exec-managerial</td>\n",
              "      <td>Not-in-family</td>\n",
              "      <td>White</td>\n",
              "      <td>Female</td>\n",
              "      <td>0</td>\n",
              "      <td>4356</td>\n",
              "      <td>18</td>\n",
              "      <td>United-States</td>\n",
              "      <td>&lt;=50K</td>\n",
              "    </tr>\n",
              "    <tr>\n",
              "      <th>2</th>\n",
              "      <td>66</td>\n",
              "      <td>?</td>\n",
              "      <td>186061</td>\n",
              "      <td>Some-college</td>\n",
              "      <td>10</td>\n",
              "      <td>Widowed</td>\n",
              "      <td>?</td>\n",
              "      <td>Unmarried</td>\n",
              "      <td>Black</td>\n",
              "      <td>Female</td>\n",
              "      <td>0</td>\n",
              "      <td>4356</td>\n",
              "      <td>40</td>\n",
              "      <td>United-States</td>\n",
              "      <td>&lt;=50K</td>\n",
              "    </tr>\n",
              "    <tr>\n",
              "      <th>3</th>\n",
              "      <td>54</td>\n",
              "      <td>Private</td>\n",
              "      <td>140359</td>\n",
              "      <td>7th-8th</td>\n",
              "      <td>4</td>\n",
              "      <td>Divorced</td>\n",
              "      <td>Machine-op-inspct</td>\n",
              "      <td>Unmarried</td>\n",
              "      <td>White</td>\n",
              "      <td>Female</td>\n",
              "      <td>0</td>\n",
              "      <td>3900</td>\n",
              "      <td>40</td>\n",
              "      <td>United-States</td>\n",
              "      <td>&lt;=50K</td>\n",
              "    </tr>\n",
              "    <tr>\n",
              "      <th>4</th>\n",
              "      <td>41</td>\n",
              "      <td>Private</td>\n",
              "      <td>264663</td>\n",
              "      <td>Some-college</td>\n",
              "      <td>10</td>\n",
              "      <td>Separated</td>\n",
              "      <td>Prof-specialty</td>\n",
              "      <td>Own-child</td>\n",
              "      <td>White</td>\n",
              "      <td>Female</td>\n",
              "      <td>0</td>\n",
              "      <td>3900</td>\n",
              "      <td>40</td>\n",
              "      <td>United-States</td>\n",
              "      <td>&lt;=50K</td>\n",
              "    </tr>\n",
              "  </tbody>\n",
              "</table>\n",
              "</div>\n",
              "    <div class=\"colab-df-buttons\">\n",
              "\n",
              "  <div class=\"colab-df-container\">\n",
              "    <button class=\"colab-df-convert\" onclick=\"convertToInteractive('df-524fc72e-162e-47f6-ae83-fa44ded38680')\"\n",
              "            title=\"Convert this dataframe to an interactive table.\"\n",
              "            style=\"display:none;\">\n",
              "\n",
              "  <svg xmlns=\"http://www.w3.org/2000/svg\" height=\"24px\" viewBox=\"0 -960 960 960\">\n",
              "    <path d=\"M120-120v-720h720v720H120Zm60-500h600v-160H180v160Zm220 220h160v-160H400v160Zm0 220h160v-160H400v160ZM180-400h160v-160H180v160Zm440 0h160v-160H620v160ZM180-180h160v-160H180v160Zm440 0h160v-160H620v160Z\"/>\n",
              "  </svg>\n",
              "    </button>\n",
              "\n",
              "  <style>\n",
              "    .colab-df-container {\n",
              "      display:flex;\n",
              "      gap: 12px;\n",
              "    }\n",
              "\n",
              "    .colab-df-convert {\n",
              "      background-color: #E8F0FE;\n",
              "      border: none;\n",
              "      border-radius: 50%;\n",
              "      cursor: pointer;\n",
              "      display: none;\n",
              "      fill: #1967D2;\n",
              "      height: 32px;\n",
              "      padding: 0 0 0 0;\n",
              "      width: 32px;\n",
              "    }\n",
              "\n",
              "    .colab-df-convert:hover {\n",
              "      background-color: #E2EBFA;\n",
              "      box-shadow: 0px 1px 2px rgba(60, 64, 67, 0.3), 0px 1px 3px 1px rgba(60, 64, 67, 0.15);\n",
              "      fill: #174EA6;\n",
              "    }\n",
              "\n",
              "    .colab-df-buttons div {\n",
              "      margin-bottom: 4px;\n",
              "    }\n",
              "\n",
              "    [theme=dark] .colab-df-convert {\n",
              "      background-color: #3B4455;\n",
              "      fill: #D2E3FC;\n",
              "    }\n",
              "\n",
              "    [theme=dark] .colab-df-convert:hover {\n",
              "      background-color: #434B5C;\n",
              "      box-shadow: 0px 1px 3px 1px rgba(0, 0, 0, 0.15);\n",
              "      filter: drop-shadow(0px 1px 2px rgba(0, 0, 0, 0.3));\n",
              "      fill: #FFFFFF;\n",
              "    }\n",
              "  </style>\n",
              "\n",
              "    <script>\n",
              "      const buttonEl =\n",
              "        document.querySelector('#df-524fc72e-162e-47f6-ae83-fa44ded38680 button.colab-df-convert');\n",
              "      buttonEl.style.display =\n",
              "        google.colab.kernel.accessAllowed ? 'block' : 'none';\n",
              "\n",
              "      async function convertToInteractive(key) {\n",
              "        const element = document.querySelector('#df-524fc72e-162e-47f6-ae83-fa44ded38680');\n",
              "        const dataTable =\n",
              "          await google.colab.kernel.invokeFunction('convertToInteractive',\n",
              "                                                    [key], {});\n",
              "        if (!dataTable) return;\n",
              "\n",
              "        const docLinkHtml = 'Like what you see? Visit the ' +\n",
              "          '<a target=\"_blank\" href=https://colab.research.google.com/notebooks/data_table.ipynb>data table notebook</a>'\n",
              "          + ' to learn more about interactive tables.';\n",
              "        element.innerHTML = '';\n",
              "        dataTable['output_type'] = 'display_data';\n",
              "        await google.colab.output.renderOutput(dataTable, element);\n",
              "        const docLink = document.createElement('div');\n",
              "        docLink.innerHTML = docLinkHtml;\n",
              "        element.appendChild(docLink);\n",
              "      }\n",
              "    </script>\n",
              "  </div>\n",
              "\n",
              "\n",
              "<div id=\"df-25440eeb-2faf-48f6-b0b8-28d49ca8784f\">\n",
              "  <button class=\"colab-df-quickchart\" onclick=\"quickchart('df-25440eeb-2faf-48f6-b0b8-28d49ca8784f')\"\n",
              "            title=\"Suggest charts\"\n",
              "            style=\"display:none;\">\n",
              "\n",
              "<svg xmlns=\"http://www.w3.org/2000/svg\" height=\"24px\"viewBox=\"0 0 24 24\"\n",
              "     width=\"24px\">\n",
              "    <g>\n",
              "        <path d=\"M19 3H5c-1.1 0-2 .9-2 2v14c0 1.1.9 2 2 2h14c1.1 0 2-.9 2-2V5c0-1.1-.9-2-2-2zM9 17H7v-7h2v7zm4 0h-2V7h2v10zm4 0h-2v-4h2v4z\"/>\n",
              "    </g>\n",
              "</svg>\n",
              "  </button>\n",
              "\n",
              "<style>\n",
              "  .colab-df-quickchart {\n",
              "      --bg-color: #E8F0FE;\n",
              "      --fill-color: #1967D2;\n",
              "      --hover-bg-color: #E2EBFA;\n",
              "      --hover-fill-color: #174EA6;\n",
              "      --disabled-fill-color: #AAA;\n",
              "      --disabled-bg-color: #DDD;\n",
              "  }\n",
              "\n",
              "  [theme=dark] .colab-df-quickchart {\n",
              "      --bg-color: #3B4455;\n",
              "      --fill-color: #D2E3FC;\n",
              "      --hover-bg-color: #434B5C;\n",
              "      --hover-fill-color: #FFFFFF;\n",
              "      --disabled-bg-color: #3B4455;\n",
              "      --disabled-fill-color: #666;\n",
              "  }\n",
              "\n",
              "  .colab-df-quickchart {\n",
              "    background-color: var(--bg-color);\n",
              "    border: none;\n",
              "    border-radius: 50%;\n",
              "    cursor: pointer;\n",
              "    display: none;\n",
              "    fill: var(--fill-color);\n",
              "    height: 32px;\n",
              "    padding: 0;\n",
              "    width: 32px;\n",
              "  }\n",
              "\n",
              "  .colab-df-quickchart:hover {\n",
              "    background-color: var(--hover-bg-color);\n",
              "    box-shadow: 0 1px 2px rgba(60, 64, 67, 0.3), 0 1px 3px 1px rgba(60, 64, 67, 0.15);\n",
              "    fill: var(--button-hover-fill-color);\n",
              "  }\n",
              "\n",
              "  .colab-df-quickchart-complete:disabled,\n",
              "  .colab-df-quickchart-complete:disabled:hover {\n",
              "    background-color: var(--disabled-bg-color);\n",
              "    fill: var(--disabled-fill-color);\n",
              "    box-shadow: none;\n",
              "  }\n",
              "\n",
              "  .colab-df-spinner {\n",
              "    border: 2px solid var(--fill-color);\n",
              "    border-color: transparent;\n",
              "    border-bottom-color: var(--fill-color);\n",
              "    animation:\n",
              "      spin 1s steps(1) infinite;\n",
              "  }\n",
              "\n",
              "  @keyframes spin {\n",
              "    0% {\n",
              "      border-color: transparent;\n",
              "      border-bottom-color: var(--fill-color);\n",
              "      border-left-color: var(--fill-color);\n",
              "    }\n",
              "    20% {\n",
              "      border-color: transparent;\n",
              "      border-left-color: var(--fill-color);\n",
              "      border-top-color: var(--fill-color);\n",
              "    }\n",
              "    30% {\n",
              "      border-color: transparent;\n",
              "      border-left-color: var(--fill-color);\n",
              "      border-top-color: var(--fill-color);\n",
              "      border-right-color: var(--fill-color);\n",
              "    }\n",
              "    40% {\n",
              "      border-color: transparent;\n",
              "      border-right-color: var(--fill-color);\n",
              "      border-top-color: var(--fill-color);\n",
              "    }\n",
              "    60% {\n",
              "      border-color: transparent;\n",
              "      border-right-color: var(--fill-color);\n",
              "    }\n",
              "    80% {\n",
              "      border-color: transparent;\n",
              "      border-right-color: var(--fill-color);\n",
              "      border-bottom-color: var(--fill-color);\n",
              "    }\n",
              "    90% {\n",
              "      border-color: transparent;\n",
              "      border-bottom-color: var(--fill-color);\n",
              "    }\n",
              "  }\n",
              "</style>\n",
              "\n",
              "  <script>\n",
              "    async function quickchart(key) {\n",
              "      const quickchartButtonEl =\n",
              "        document.querySelector('#' + key + ' button');\n",
              "      quickchartButtonEl.disabled = true;  // To prevent multiple clicks.\n",
              "      quickchartButtonEl.classList.add('colab-df-spinner');\n",
              "      try {\n",
              "        const charts = await google.colab.kernel.invokeFunction(\n",
              "            'suggestCharts', [key], {});\n",
              "      } catch (error) {\n",
              "        console.error('Error during call to suggestCharts:', error);\n",
              "      }\n",
              "      quickchartButtonEl.classList.remove('colab-df-spinner');\n",
              "      quickchartButtonEl.classList.add('colab-df-quickchart-complete');\n",
              "    }\n",
              "    (() => {\n",
              "      let quickchartButtonEl =\n",
              "        document.querySelector('#df-25440eeb-2faf-48f6-b0b8-28d49ca8784f button');\n",
              "      quickchartButtonEl.style.display =\n",
              "        google.colab.kernel.accessAllowed ? 'block' : 'none';\n",
              "    })();\n",
              "  </script>\n",
              "</div>\n",
              "    </div>\n",
              "  </div>\n"
            ]
          },
          "metadata": {},
          "execution_count": 38
        }
      ],
      "source": [
        "df.head()"
      ]
    },
    {
      "cell_type": "markdown",
      "metadata": {
        "id": "JHRJKM6_m692"
      },
      "source": [
        "**About the Dataset**\n",
        "```*Age: Describes the age of individuals. Continuous.\n",
        "*Workclass*: Private, Self-emp-not-inc, Self-emp-inc, Federal-gov, Local-gov, State-gov, Without-pay, Never-worked.\n",
        "*fnlwgt*: Continuous.\n",
        "*education*: Bachelors, Some-college, 11th, HS-grad, Prof-school, Assoc-acdm, Assoc-voc, 9th, 7th-8th, 12th, Masters, 1st-4th, 10th, Doctorate, 5th-6th, Preschool.\n",
        "*education-num*: Number of years spent in education. Continuous.\n",
        "*marital-status*: Married-civ-spouse, Divorced, Never-married, Separated, Widowed, Married-spouse-absent, Married-AF-spouse.\n",
        "*occupation*: Tech-support, Craft-repair, Other-service, Sales, Exec-managerial, Prof-specialty, Handlers-cleaners, Machine-op-inspct, Adm-clerical, Farming-fishing, Transport-moving, Priv-house-serv, Protective-serv, Armed-Forces.\n",
        "*relationship*: Wife, Own-child, Husband, Not-in-family, Other-relative, Unmarried.\n",
        "*race*: White, Asian-Pac-Islander, Amer-Indian-Eskimo, Other, Black.\n",
        "*sex*: Female, Male.\n",
        "*capital-gain*: Continuous.\n",
        "*capital-loss*: Continuous.\n",
        "*hours-per-week*: Continuous.\n",
        "*native-country*: United-States, Cambodia, England, Puerto-Rico, Canada, Germany, Outlying-US(Guam-USVI-etc), India, Japan, Greece, South, China, Cuba, Iran, Honduras, Philippines, Italy, Poland, Jamaica, Vietnam, Mexico, Portugal, Ireland, France, Dominican-Republic, Laos, Ecuador, Taiwan, Haiti, Columbia, Hungary, Guatemala, Nicaragua, Scotland, Thailand, Yugoslavia, El-Salvador, Trinadad&Tobago, Peru, Hong, Holand-Netherlands.\n",
        "*salary*: >50K,<=50K  ---- CLASSIFICATION Target\n",
        "\n",
        "```\n",
        "\n"
      ]
    },
    {
      "cell_type": "code",
      "execution_count": null,
      "metadata": {
        "id": "oRHGN24vLejX"
      },
      "outputs": [],
      "source": []
    },
    {
      "cell_type": "code",
      "execution_count": null,
      "metadata": {
        "id": "BonME04GLev4"
      },
      "outputs": [],
      "source": []
    },
    {
      "cell_type": "markdown",
      "metadata": {
        "id": "Ela4z68crHTI"
      },
      "source": [
        "We can see that the columns workclass, occupation, and native.country contains null values. There can be many ways to impute missing values, but right now, for the sake of simplicity we would impute them using mode!\n",
        "\n"
      ]
    },
    {
      "cell_type": "code",
      "execution_count": 36,
      "metadata": {
        "id": "bW_iMWP7rFzl"
      },
      "outputs": [],
      "source": [
        "for col in ['workclass', 'occupation', 'native.country']:\n",
        "    df[col].fillna(df[col].mode()[0], inplace=True)"
      ]
    },
    {
      "cell_type": "markdown",
      "metadata": {
        "id": "xYs5sZHir9BY"
      },
      "source": [
        "Data preparation for a model implementation"
      ]
    },
    {
      "cell_type": "code",
      "execution_count": 37,
      "metadata": {
        "id": "pPmTNi_VsB7s"
      },
      "outputs": [],
      "source": [
        "from sklearn.preprocessing import LabelEncoder\n",
        "categorical = ['workclass','education', 'marital.status', 'occupation', 'relationship',\n",
        "               'race', 'sex','native.country','income']\n",
        "label_encoder = LabelEncoder()\n",
        "for col in categorical:\n",
        "    label_encoder.fit(df[col])\n",
        "    df[col] = label_encoder.transform(df[col])\n",
        "\n",
        "from sklearn.model_selection import train_test_split\n",
        "X = df[['workclass','education', 'marital.status', 'occupation', 'relationship',\n",
        "               'race', 'sex','native.country', 'age', 'hours.per.week']]\n",
        "y = df['income']\n",
        "\n",
        "feature_name = ['workclass','education', 'marital.status', 'occupation', 'relationship',\n",
        "               'race', 'sex','native.country', 'age', 'hours.per.week']"
      ]
    },
    {
      "cell_type": "markdown",
      "metadata": {
        "id": "cdtYGt-8xzy_"
      },
      "source": [
        "#let's split data and do input feature transform."
      ]
    },
    {
      "cell_type": "code",
      "execution_count": 38,
      "metadata": {
        "id": "1MDElFLXIp1_"
      },
      "outputs": [],
      "source": [
        "X_tr, X_te, y_train, y_test = train_test_split(X, y, test_size=0.3, random_state=RAND, shuffle=True, stratify=y)"
      ]
    },
    {
      "cell_type": "code",
      "execution_count": 39,
      "metadata": {
        "id": "tUJuxXCYRG_0"
      },
      "outputs": [],
      "source": [
        "from sklearn.preprocessing import StandardScaler\n",
        "scaler = StandardScaler()\n",
        "scaler.fit(X_tr)\n",
        "X_train=scaler.transform(X_tr)\n",
        "X_test=scaler.transform(X_te)"
      ]
    },
    {
      "cell_type": "markdown",
      "metadata": {
        "id": "wCDXEgoBzchs"
      },
      "source": [
        "## Let's implement the baseline model. With THE BEST parameters from the assignment 2 and all features from a dataset."
      ]
    },
    {
      "cell_type": "markdown",
      "metadata": {
        "id": "ndb9y7x9SZni"
      },
      "source": [
        "**The task 1.**\n",
        "Depending on the last digit of your student Internal code (abcde) take an \"optimal\" specific *parameter* from the assignment 2.\n",
        "The RAND variable is your student ID numbers RAND=\"bcde\" at a top of the code.\n",
        "\n",
        "0. DecisionTreeClassifier(criterion='entropy', random_state=RAND, min_samples_split = `???`)\n",
        "1. DecisionTreeClassifier(criterion='gini', random_state=RAND, max_depth = `???`)\n",
        "2. KNeighborsClassifier(n_neighbors=`???`, p=2)\n",
        "3. KNeighborsClassifier(n_neighbors='???', p=1)\n",
        "4. svm. SVC(random_state=RAND, kernel='linear', C=`???`)\n",
        "5. svm.SVC(random_state=RAND, kernel='rbf', gamma=0.07, C=`???`)\n",
        "6. svm.SVC(random_state=RAND,kernel='poly', degree=3, C=`???`)\n",
        "7. svm.LinearSVC(random_state=RAND,C=`???`)\n",
        "8. MLPClassifier(solver='lbfgs', alpha=1e-5, hidden_layer_sizes=(`???`,), random_state=RAND)\n",
        "9. MLPClassifier(solver='lbfgs', alpha=1e-5, hidden_layer_sizes=(`???`,5), random_state=RAND)"
      ]
    },
    {
      "cell_type": "code",
      "execution_count": 12,
      "metadata": {
        "colab": {
          "base_uri": "https://localhost:8080/"
        },
        "id": "SBWORuRwSoxo",
        "outputId": "34db533a-2dc2-4f7f-a56b-94a7d013b878"
      },
      "outputs": [
        {
          "output_type": "stream",
          "name": "stdout",
          "text": [
            "Baseline accuracy =  0.7695772341078924\n"
          ]
        }
      ],
      "source": [
        "model = svm.SVC(random_state=RAND,kernel='poly', degree=3, C=59)\n",
        "model.fit(X_train, y_train)\n",
        "y_pred = model.predict(X_test)\n",
        "scores_baseline=metrics.accuracy_score(y_test,y_pred)\n",
        "print(\"Baseline accuracy = \", scores_baseline)"
      ]
    },
    {
      "cell_type": "code",
      "execution_count": null,
      "metadata": {
        "colab": {
          "base_uri": "https://localhost:8080/",
          "height": 449
        },
        "id": "aITCslgDJnXT",
        "outputId": "01b42d08-2fe5-440b-8fc9-2e35ed269475"
      },
      "outputs": [
        {
          "output_type": "display_data",
          "data": {
            "text/plain": [
              "<Figure size 640x480 with 2 Axes>"
            ],
            "image/png": "[encoded data removed]"
          },
          "metadata": {}
        }
      ],
      "source": [
        "# Plot Confusion matrix\n",
        "classes = None\n",
        "cm = confusion_matrix(y_test, y_pred, labels=classes)\n",
        "disp = ConfusionMatrixDisplay(confusion_matrix=cm, display_labels=classes)\n",
        "disp = disp.plot(include_values=True, cmap='Blues', ax=None, xticks_rotation='horizontal')"
      ]
    },
    {
      "cell_type": "code",
      "execution_count": null,
      "metadata": {
        "colab": {
          "base_uri": "https://localhost:8080/"
        },
        "id": "RNFmhLvCLH4n",
        "outputId": "565e2aab-ca31-44c3-ef0d-514b0d396886"
      },
      "outputs": [
        {
          "output_type": "stream",
          "name": "stdout",
          "text": [
            "Baseline metrics:\n",
            "- Accuracy  = 0.770\n",
            "- ROC AUC   = 0.562\n",
            "              precision    recall  f1-score   support\n",
            "\n",
            "           0       0.78      0.96      0.86      7417\n",
            "           1       0.58      0.16      0.25      2352\n",
            "\n",
            "    accuracy                           0.77      9769\n",
            "   macro avg       0.68      0.56      0.56      9769\n",
            "weighted avg       0.73      0.77      0.72      9769\n",
            "\n"
          ]
        }
      ],
      "source": [
        "print(\"Baseline metrics:\")\n",
        "print(\"- Accuracy  = %.3f\" % accuracy_score(y_test, y_pred))\n",
        "print(\"- ROC AUC   = %.3f\" % roc_auc_score(y_test, y_pred))\n",
        "# compute the classification report\n",
        "print(classification_report(y_test, y_pred))"
      ]
    },
    {
      "cell_type": "markdown",
      "metadata": {
        "id": "44TxuLk9NAFr"
      },
      "source": [
        "-----------------------------------------------------------------------\n",
        "**Now, let's build your model with feature selection.**\n",
        "-----------------------------------------------------------------------"
      ]
    },
    {
      "cell_type": "code",
      "execution_count": 19,
      "metadata": {
        "colab": {
          "base_uri": "https://localhost:8080/"
        },
        "id": "wg_Gt6RNsfy_",
        "outputId": "bc0104b7-640a-42aa-d2b2-e88f45256320"
      },
      "outputs": [
        {
          "output_type": "stream",
          "name": "stdout",
          "text": [
            "Collecting boruta\n",
            "  Downloading Boruta-0.3-py3-none-any.whl (56 kB)\n",
            "\u001b[?25l     \u001b[90m━━━━━━━━━━━━━━━━━━━━━━━━━━━━━━━━━━━━━━━━\u001b[0m \u001b[32m0.0/56.6 kB\u001b[0m \u001b[31m?\u001b[0m eta \u001b[36m-:--:--\u001b[0m\r\u001b[2K     \u001b[90m━━━━━━━━━━━━━━━━━━━━━━━━━━━━━━━━━━━━━━━━\u001b[0m \u001b[32m56.6/56.6 kB\u001b[0m \u001b[31m1.7 MB/s\u001b[0m eta \u001b[36m0:00:00\u001b[0m\n",
            "\u001b[?25hRequirement already satisfied: numpy>=1.10.4 in /usr/local/lib/python3.10/dist-packages (from boruta) (1.23.5)\n",
            "Requirement already satisfied: scikit-learn>=0.17.1 in /usr/local/lib/python3.10/dist-packages (from boruta) (1.2.2)\n",
            "Requirement already satisfied: scipy>=0.17.0 in /usr/local/lib/python3.10/dist-packages (from boruta) (1.11.4)\n",
            "Requirement already satisfied: joblib>=1.1.1 in /usr/local/lib/python3.10/dist-packages (from scikit-learn>=0.17.1->boruta) (1.3.2)\n",
            "Requirement already satisfied: threadpoolctl>=2.0.0 in /usr/local/lib/python3.10/dist-packages (from scikit-learn>=0.17.1->boruta) (3.2.0)\n",
            "Installing collected packages: boruta\n",
            "Successfully installed boruta-0.3\n"
          ]
        }
      ],
      "source": [
        "RAND=2106 ## Student ID abcde\n",
        "!pip install boruta"
      ]
    },
    {
      "cell_type": "markdown",
      "metadata": {
        "id": "W4TZqy_W887M"
      },
      "source": [
        "#The task 2. features selection by chi2  or f_classif.\n",
        "\n",
        "2.1 If your student number last digit >5 then to use \"chi2\", **else**  \"f_classif\" .\n",
        "\n",
        "\n",
        "2.2 Find the best number of feature by changing k"
      ]
    },
    {
      "cell_type": "code",
      "execution_count": 40,
      "metadata": {
        "colab": {
          "base_uri": "https://localhost:8080/"
        },
        "id": "C6a0QUqUd-Hq",
        "outputId": "66310d69-6433-4e77-91b8-9c678c912d77"
      },
      "outputs": [
        {
          "output_type": "stream",
          "name": "stdout",
          "text": [
            "[ True  True  True  True  True  True  True False  True False]\n",
            "Accuracy_K_Best =  0.7592384072064694\n"
          ]
        }
      ],
      "source": [
        "from sklearn.feature_selection import SelectKBest, chi2, f_classif\n",
        "\n",
        "#features selection by chi2  or f_classif\n",
        "#if your student number last digit >5 then to use \"chi2\", else  f_classif\n",
        "#Find the best number of feature by changing k\n",
        "\n",
        "bestfeatures = SelectKBest(score_func=chi2, k=8)\n",
        "#train\n",
        "bestfeatures.fit(abs(X_train), y_train)\n",
        "\n",
        "print(bestfeatures.get_support())\n",
        "#Apply feature selection and return transformed data\n",
        "X_train_filtered = bestfeatures.transform(X_train)\n",
        "X_test_filtered = bestfeatures.transform(X_test)\n",
        "#check your model accuracy with reduced number of features\n",
        "model.fit(X_train_filtered, y_train)\n",
        "y_pred = model.predict(X_test_filtered)\n",
        "\n",
        "score_filtered=metrics.accuracy_score(y_test,y_pred)\n",
        "\n",
        "print(\"Accuracy_K_Best = \", score_filtered)"
      ]
    },
    {
      "cell_type": "markdown",
      "metadata": {
        "id": "G7Q_5SZ6-nzo"
      },
      "source": [
        "#The task 3. features selection by SequentialFeatureSelector.\n",
        "\n",
        "3.1 If your student number last digit >5 then to use \"backward\", else \"forward\" .\n",
        "\n",
        "3.2 Find the best number of feature by changing n_features_to_select"
      ]
    },
    {
      "cell_type": "code",
      "execution_count": 41,
      "metadata": {
        "colab": {
          "base_uri": "https://localhost:8080/"
        },
        "id": "vmU8uclUsiXQ",
        "outputId": "212b79c5-560a-474e-9d65-17642c835d7d"
      },
      "outputs": [
        {
          "output_type": "stream",
          "name": "stdout",
          "text": [
            "[ True  True  True  True  True  True False  True  True  True]\n",
            "Accuracy_sfs =  0.7650731907052922\n"
          ]
        }
      ],
      "source": [
        "from sklearn.feature_selection import SequentialFeatureSelector\n",
        "\n",
        "sfs = SequentialFeatureSelector(GaussianNB(), direction='backward', n_features_to_select=9)\n",
        "#train\n",
        "sfs.fit(X_train, y_train)\n",
        "#print selected features\n",
        "print(sfs.get_support())\n",
        "\n",
        "#Apply feature selection and return transformed data\n",
        "X_train_filtered = sfs.transform(X_train)\n",
        "X_test_filtered = sfs.transform(X_test)\n",
        "#train your model\n",
        "model.fit(X_train_filtered, y_train)\n",
        "y_pred = model.predict(X_test_filtered)\n",
        "score_filtered_sfs=metrics.accuracy_score(y_test,y_pred)\n",
        "print(\"Accuracy_sfs = \", score_filtered_sfs)"
      ]
    },
    {
      "cell_type": "markdown",
      "metadata": {
        "id": "HcGA-OCKAY1y"
      },
      "source": [
        "#Task 4. Feature selection by Boruta wraper.\n",
        "4.1 If your student number last digit >5 then to use \"rfc\", else \"etc\" .\n",
        "\n",
        "\n"
      ]
    },
    {
      "cell_type": "code",
      "execution_count": 20,
      "metadata": {
        "colab": {
          "base_uri": "https://localhost:8080/"
        },
        "id": "4JVh7LeTWxXV",
        "outputId": "42923c09-bd35-43bf-c1c5-997cbd35f521"
      },
      "outputs": [
        {
          "output_type": "stream",
          "name": "stdout",
          "text": [
            "Iteration: 1 / 10\n",
            "Iteration: 2 / 10\n",
            "Iteration: 3 / 10\n",
            "Iteration: 4 / 10\n",
            "Iteration: 5 / 10\n",
            "Iteration: 6 / 10\n",
            "Iteration: 7 / 10\n",
            "Iteration: 8 / 10\n",
            "Iteration: 9 / 10\n",
            "\n",
            "\n",
            "BorutaPy finished running.\n",
            "\n",
            "Iteration: \t10 / 10\n",
            "Confirmed: \t3\n",
            "Tentative: \t2\n",
            "Rejected: \t4\n",
            "[False  True False False  True False False False  True False]\n",
            "[4 1 2 3 1 7 5 6 1 2]\n"
          ]
        }
      ],
      "source": [
        "#Install Boruta for first time\n",
        "#!pip install boruta\n",
        "from boruta import BorutaPy\n",
        "\n",
        "from sklearn.ensemble import RandomForestClassifier\n",
        "rfc = RandomForestClassifier(random_state=RAND)\n",
        "from sklearn.ensemble import ExtraTreesClassifier\n",
        "etc = ExtraTreesClassifier(random_state=RAND)\n",
        "\n",
        "# define Boruta feature selection method by ensamble classifier:  rfc, etc\n",
        "feat_selector = BorutaPy(rfc, n_estimators='auto', verbose=1, random_state=RAND, max_iter=10) #, max_iter=10\n",
        "\n",
        "# find all relevant features\n",
        "feat_selector.fit(X_train, y_train)\n",
        "\n",
        "\n",
        "# check selected features\n",
        "print(feat_selector.support_)  #Should we accept the feature\n",
        "\n",
        "# check ranking of features\n",
        "print(feat_selector.ranking_) #Rank 1 is the best"
      ]
    },
    {
      "cell_type": "code",
      "execution_count": 21,
      "metadata": {
        "colab": {
          "base_uri": "https://localhost:8080/"
        },
        "id": "KfMqLvWMkubL",
        "outputId": "6fe2a646-e6cc-4da9-b813-ad74e2731cf9"
      },
      "outputs": [
        {
          "output_type": "stream",
          "name": "stdout",
          "text": [
            "Feature: workclass                      Rank: 4,  Keep: False\n",
            "Feature: education                      Rank: 1,  Keep: True\n",
            "Feature: marital.status                 Rank: 2,  Keep: False\n",
            "Feature: occupation                     Rank: 3,  Keep: False\n",
            "Feature: relationship                   Rank: 1,  Keep: True\n",
            "Feature: race                           Rank: 7,  Keep: False\n",
            "Feature: sex                            Rank: 5,  Keep: False\n",
            "Feature: native.country                 Rank: 6,  Keep: False\n",
            "Feature: age                            Rank: 1,  Keep: True\n",
            "Feature: hours.per.week                 Rank: 2,  Keep: False\n"
          ]
        }
      ],
      "source": [
        "\"\"\"\n",
        "Review the features\n",
        "\"\"\"\n",
        "# zip feature names, ranks, and decisions\n",
        "feature_ranks = list(zip(feature_name,\n",
        "                         feat_selector.ranking_,\n",
        "                         feat_selector.support_))\n",
        "\n",
        "# print the results\n",
        "new_names=[]\n",
        "for feat in feature_ranks:\n",
        "    print('Feature: {:<30} Rank: {},  Keep: {}'.format(feat[0], feat[1], feat[2]))\n",
        "    if feat[2]:\n",
        "     new_names.append(feat[0])"
      ]
    },
    {
      "cell_type": "code",
      "execution_count": 22,
      "metadata": {
        "colab": {
          "base_uri": "https://localhost:8080/"
        },
        "id": "7rKejoxCfg3Y",
        "outputId": "d36ba8cf-9ab5-4bed-b0ab-0095db3f15be"
      },
      "outputs": [
        {
          "output_type": "execute_result",
          "data": {
            "text/plain": [
              "['education', 'relationship', 'age']"
            ]
          },
          "metadata": {},
          "execution_count": 22
        }
      ],
      "source": [
        "# what features ar most important for a classification task?\n",
        "new_names"
      ]
    },
    {
      "cell_type": "code",
      "execution_count": 23,
      "metadata": {
        "id": "r-Yj1yReTkXJ"
      },
      "outputs": [],
      "source": [
        "#Apply feature selection and return transformed data\n",
        "X_train_filtered = feat_selector.transform(X_train)\n",
        "X_test_filtered = feat_selector.transform(X_test)"
      ]
    },
    {
      "cell_type": "code",
      "source": [
        "#train model\n",
        "model.fit(X_train_filtered, y_train)\n",
        "y_pred = model.predict(X_test_filtered)\n",
        "score_filtered_B=metrics.accuracy_score(y_test,y_pred)\n",
        "print(\"Boruta accuracy = \", score_filtered_B)"
      ],
      "metadata": {
        "id": "L030JjQ6Quv2",
        "colab": {
          "base_uri": "https://localhost:8080/"
        },
        "outputId": "0c389f9e-e7f2-4b0b-fd8e-dd41fc7b50f1"
      },
      "execution_count": 25,
      "outputs": [
        {
          "output_type": "stream",
          "name": "stdout",
          "text": [
            "Boruta accuracy =  0.6446666666666667\n"
          ]
        }
      ]
    },
    {
      "cell_type": "code",
      "execution_count": 26,
      "metadata": {
        "colab": {
          "base_uri": "https://localhost:8080/",
          "height": 449
        },
        "id": "wYRlfvxvc8NU",
        "outputId": "ef37f176-d406-4bb8-be57-7fea937c89d1"
      },
      "outputs": [
        {
          "output_type": "display_data",
          "data": {
            "text/plain": [
              "<Figure size 640x480 with 2 Axes>"
            ],
            "image/png": "[encoded data removed]"
          },
          "metadata": {}
        }
      ],
      "source": [
        "#plot confusion matrixes of a classifier with Boruta selected features\n",
        "classes = None\n",
        "cm = confusion_matrix(y_test, y_pred, labels=classes)\n",
        "disp = ConfusionMatrixDisplay(confusion_matrix=cm, display_labels=classes)\n",
        "disp = disp.plot(include_values=True, cmap='Blues', ax=None, xticks_rotation='horizontal')"
      ]
    },
    {
      "cell_type": "code",
      "execution_count": 27,
      "metadata": {
        "colab": {
          "base_uri": "https://localhost:8080/"
        },
        "id": "E_BFs5glj1LW",
        "outputId": "9b2fb3de-bf91-4f8f-a4c7-c454f8d876aa"
      },
      "outputs": [
        {
          "output_type": "stream",
          "name": "stdout",
          "text": [
            "Boruta accuracy metrics:\n",
            "- Accuracy  = 0.645\n",
            "- ROC AUC   = 0.500\n",
            "              precision    recall  f1-score   support\n",
            "\n",
            "           0       0.64      1.00      0.78      1934\n",
            "           1       0.00      0.00      0.00      1066\n",
            "\n",
            "    accuracy                           0.64      3000\n",
            "   macro avg       0.32      0.50      0.39      3000\n",
            "weighted avg       0.42      0.64      0.51      3000\n",
            "\n"
          ]
        },
        {
          "output_type": "stream",
          "name": "stderr",
          "text": [
            "/usr/local/lib/python3.10/dist-packages/sklearn/metrics/_classification.py:1344: UndefinedMetricWarning: Precision and F-score are ill-defined and being set to 0.0 in labels with no predicted samples. Use `zero_division` parameter to control this behavior.\n",
            "  _warn_prf(average, modifier, msg_start, len(result))\n",
            "/usr/local/lib/python3.10/dist-packages/sklearn/metrics/_classification.py:1344: UndefinedMetricWarning: Precision and F-score are ill-defined and being set to 0.0 in labels with no predicted samples. Use `zero_division` parameter to control this behavior.\n",
            "  _warn_prf(average, modifier, msg_start, len(result))\n",
            "/usr/local/lib/python3.10/dist-packages/sklearn/metrics/_classification.py:1344: UndefinedMetricWarning: Precision and F-score are ill-defined and being set to 0.0 in labels with no predicted samples. Use `zero_division` parameter to control this behavior.\n",
            "  _warn_prf(average, modifier, msg_start, len(result))\n"
          ]
        }
      ],
      "source": [
        "print(\"Boruta accuracy metrics:\")\n",
        "print(\"- Accuracy  = %.3f\" % accuracy_score(y_test, y_pred))\n",
        "print(\"- ROC AUC   = %.3f\" % roc_auc_score(y_test, y_pred))\n",
        "# compute the classification report\n",
        "print(classification_report(y_test, y_pred))"
      ]
    },
    {
      "cell_type": "markdown",
      "metadata": {
        "id": "FuaE26FfCJ3d"
      },
      "source": [
        "#Task 5. Compare Base line classifier accuracy to classifiers with reduced features and make an conclusion of improvement. What features were most oftten selected?"
      ]
    },
    {
      "cell_type": "code",
      "execution_count": 46,
      "metadata": {
        "colab": {
          "base_uri": "https://localhost:8080/"
        },
        "id": "aNavYbBOC4b0",
        "outputId": "5be38673-4752-48b6-c266-9516d460fe62"
      },
      "outputs": [
        {
          "output_type": "stream",
          "name": "stdout",
          "text": [
            "Baseline accuracy:                                    0.7695772341078924\n",
            "\n",
            "f_classif feature selection accuracy:                 0.7592384072064694\n",
            "The score improved by:                                -0.010338826901423\n",
            "\n",
            "SequentialFeatureSelector feature selection accuracy: 0.7650731907052922\n",
            "The score improved by:                                -0.0045040434026001\n",
            "\n",
            "Boruta wraper feature selection accuracy:             0.6446666666666667\n",
            "The score improved by:                                -0.1249105674412256\n",
            "\n",
            "Most often selected features:\n",
            "education\n",
            "relationship\n",
            "age\n"
          ]
        }
      ],
      "source": [
        "print(\"Baseline accuracy:                                   \", scores_baseline)\n",
        "print(\"\\nf_classif feature selection accuracy:                \", score_filtered)\n",
        "print(\"The score improved by:                               \", round(score_filtered-scores_baseline,16))\n",
        "print(\"\\nSequentialFeatureSelector feature selection accuracy:\", score_filtered_sfs)\n",
        "print(\"The score improved by:                               \", round(score_filtered_sfs-scores_baseline,16))\n",
        "print(\"\\nBoruta wraper feature selection accuracy:            \", score_filtered_B)\n",
        "print(\"The score improved by:                               \", round(score_filtered_B-scores_baseline,16))\n",
        "\n",
        "features_number = 10\n",
        "count=[0]*features_number\n",
        "arr1=bestfeatures.get_support()\n",
        "arr2=sfs.get_support()\n",
        "arr3=feat_selector.support_\n",
        "for x in range(features_number):\n",
        "  if arr1[x] == True:\n",
        "    count[x]=count[x]+1\n",
        "  if arr2[x] == True:\n",
        "    count[x]=count[x]+1\n",
        "  if arr3[x] == True:\n",
        "    count[x]=count[x]+1\n",
        "maxElement = np.amax(count)\n",
        "result = np.where(count == np.amax(count))\n",
        "print(\"\\nMost often selected features:\")\n",
        "for x in range(len(result[0])):\n",
        "  print(feature_name[result[0][x]])\n"
      ]
    },
    {
      "cell_type": "markdown",
      "source": [
        "All classifiers with reduced features made the performance worse"
      ],
      "metadata": {
        "id": "Ns1BJQU3gtaB"
      }
    },
    {
      "cell_type": "markdown",
      "metadata": {
        "id": "LvWzvXXIDKPe"
      },
      "source": [
        "**Bonus**: train a decision tree on reduced features. From the decision tree graph Explain - what you need \"to do\" in order to get into class \">50K\"."
      ]
    }
  ],
  "metadata": {
    "colab": {
      "provenance": [],
      "include_colab_link": true
    },
    "kernelspec": {
      "display_name": "Python 3",
      "name": "python3"
    },
    "language_info": {
      "name": "python"
    }
  },
  "nbformat": 4,
  "nbformat_minor": 0
}