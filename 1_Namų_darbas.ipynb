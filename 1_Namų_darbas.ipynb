{
  "cells": [
    {
      "cell_type": "markdown",
      "metadata": {
        "id": "view-in-github",
        "colab_type": "text"
      },
      "source": [
        "<a href=\"https://colab.research.google.com/github/bigsteris/Namu-darbai/blob/main/1_Nam%C5%B3_darbas.ipynb\" target=\"_parent\"><img src=\"https://colab.research.google.com/assets/colab-badge.svg\" alt=\"Open In Colab\"/></a>"
      ]
    },
    {
      "cell_type": "code",
      "execution_count": 4,
      "metadata": {
        "id": "3O1udgJlgUds"
      },
      "outputs": [],
      "source": [
        "import numpy as np\n",
        "import pandas as pd\n",
        "\n",
        "from geopy.distance import geodesic\n",
        "import datetime\n",
        "import time"
      ]
    },
    {
      "cell_type": "markdown",
      "metadata": {
        "id": "cwiLmEwvgUd5"
      },
      "source": [
        "### The beginning\n"
      ]
    },
    {
      "cell_type": "markdown",
      "metadata": {
        "id": "g2K9jZflgUeA"
      },
      "source": [
        "#### Download individual file from https://s3.amazonaws.com/tripdata/index.html\n",
        "The file title is 'YYYYMM-citibike-tripdata.csv.zip'\n",
        "The LAST STUDENT digit from internal KTU code use for a Year definition i.e.\n",
        "*   {0,1}==2017\n",
        "*   {2,3}==2018\n",
        "*   {4,5}==2019\n",
        "*   {6,7,8,9}==2020\n",
        "*   \n",
        "\n",
        "Prefinal internal KTU code number - for mont definition MM=0x. if x=0, then MM=10\n",
        "> Dowload file: 'YYYYMM-citibike-tripdata.csv.zip'\n"
      ]
    },
    {
      "cell_type": "code",
      "source": [
        "from google.colab import drive\n",
        "drive.mount('/content/drive')"
      ],
      "metadata": {
        "id": "vM4w4kb9rpsL",
        "colab": {
          "base_uri": "https://localhost:8080/"
        },
        "outputId": "5fa274cc-4836-481d-fbc5-428a258dcbe8"
      },
      "execution_count": 5,
      "outputs": [
        {
          "output_type": "stream",
          "name": "stdout",
          "text": [
            "Drive already mounted at /content/drive; to attempt to forcibly remount, call drive.mount(\"/content/drive\", force_remount=True).\n"
          ]
        }
      ]
    },
    {
      "cell_type": "code",
      "execution_count": 6,
      "metadata": {
        "id": "C6zBTGfsgUeD"
      },
      "outputs": [],
      "source": [
        "citybike = pd.read_csv('/content/drive/MyDrive/IVSP/1nd/202010-citibike-tripdata.csv')"
      ]
    },
    {
      "cell_type": "code",
      "execution_count": 7,
      "metadata": {
        "id": "rdqOz8t9gUeF",
        "colab": {
          "base_uri": "https://localhost:8080/",
          "height": 328
        },
        "outputId": "fa93e12c-fb54-4949-fcfd-c53d87979694"
      },
      "outputs": [
        {
          "output_type": "execute_result",
          "data": {
            "text/plain": [
              "   tripduration                 starttime                  stoptime  \\\n",
              "0          1403  2020-10-01 00:00:10.7870  2020-10-01 00:23:34.5400   \n",
              "1           462  2020-10-01 00:00:18.2390  2020-10-01 00:08:00.5710   \n",
              "2           770  2020-10-01 00:00:21.3070  2020-10-01 00:13:12.0840   \n",
              "3           233  2020-10-01 00:00:25.0080  2020-10-01 00:04:18.6410   \n",
              "4           126  2020-10-01 00:00:25.3100  2020-10-01 00:02:32.1330   \n",
              "\n",
              "   start station id        start station name  start station latitude  \\\n",
              "0               224     Spruce St & Nassau St               40.711464   \n",
              "1              3161    W 76 St & Columbus Ave               40.780184   \n",
              "2               354   Emerson Pl & Myrtle Ave               40.693631   \n",
              "3              3141           1 Ave & E 68 St               40.765005   \n",
              "4               335  Washington Pl & Broadway               40.729039   \n",
              "\n",
              "   start station longitude  end station id           end station name  \\\n",
              "0               -74.005524            3347  Van Brunt St & Wolcott St   \n",
              "1               -73.977285            3158         W 63 St & Broadway   \n",
              "2               -73.962236            3761      Cedar St & Myrtle Ave   \n",
              "3               -73.958185             464            E 56 St & 3 Ave   \n",
              "4               -73.994046             229             Great Jones St   \n",
              "\n",
              "   end station latitude  end station longitude  bikeid    usertype  \\\n",
              "0             40.677343             -74.012751   39079  Subscriber   \n",
              "1             40.771639             -73.982614   41267  Subscriber   \n",
              "2             40.697842             -73.926241   47398    Customer   \n",
              "3             40.759345             -73.967597   36482  Subscriber   \n",
              "4             40.727434             -73.993790   45319  Subscriber   \n",
              "\n",
              "   birth year  gender  \n",
              "0        1995       1  \n",
              "1        1998       2  \n",
              "2        1996       1  \n",
              "3        1993       1  \n",
              "4        1989       1  "
            ],
            "text/html": [
              "\n",
              "  <div id=\"df-b45970a5-d367-4fc8-acf7-391ec86fd17e\" class=\"colab-df-container\">\n",
              "    <div>\n",
              "<style scoped>\n",
              "    .dataframe tbody tr th:only-of-type {\n",
              "        vertical-align: middle;\n",
              "    }\n",
              "\n",
              "    .dataframe tbody tr th {\n",
              "        vertical-align: top;\n",
              "    }\n",
              "\n",
              "    .dataframe thead th {\n",
              "        text-align: right;\n",
              "    }\n",
              "</style>\n",
              "<table border=\"1\" class=\"dataframe\">\n",
              "  <thead>\n",
              "    <tr style=\"text-align: right;\">\n",
              "      <th></th>\n",
              "      <th>tripduration</th>\n",
              "      <th>starttime</th>\n",
              "      <th>stoptime</th>\n",
              "      <th>start station id</th>\n",
              "      <th>start station name</th>\n",
              "      <th>start station latitude</th>\n",
              "      <th>start station longitude</th>\n",
              "      <th>end station id</th>\n",
              "      <th>end station name</th>\n",
              "      <th>end station latitude</th>\n",
              "      <th>end station longitude</th>\n",
              "      <th>bikeid</th>\n",
              "      <th>usertype</th>\n",
              "      <th>birth year</th>\n",
              "      <th>gender</th>\n",
              "    </tr>\n",
              "  </thead>\n",
              "  <tbody>\n",
              "    <tr>\n",
              "      <th>0</th>\n",
              "      <td>1403</td>\n",
              "      <td>2020-10-01 00:00:10.7870</td>\n",
              "      <td>2020-10-01 00:23:34.5400</td>\n",
              "      <td>224</td>\n",
              "      <td>Spruce St &amp; Nassau St</td>\n",
              "      <td>40.711464</td>\n",
              "      <td>-74.005524</td>\n",
              "      <td>3347</td>\n",
              "      <td>Van Brunt St &amp; Wolcott St</td>\n",
              "      <td>40.677343</td>\n",
              "      <td>-74.012751</td>\n",
              "      <td>39079</td>\n",
              "      <td>Subscriber</td>\n",
              "      <td>1995</td>\n",
              "      <td>1</td>\n",
              "    </tr>\n",
              "    <tr>\n",
              "      <th>1</th>\n",
              "      <td>462</td>\n",
              "      <td>2020-10-01 00:00:18.2390</td>\n",
              "      <td>2020-10-01 00:08:00.5710</td>\n",
              "      <td>3161</td>\n",
              "      <td>W 76 St &amp; Columbus Ave</td>\n",
              "      <td>40.780184</td>\n",
              "      <td>-73.977285</td>\n",
              "      <td>3158</td>\n",
              "      <td>W 63 St &amp; Broadway</td>\n",
              "      <td>40.771639</td>\n",
              "      <td>-73.982614</td>\n",
              "      <td>41267</td>\n",
              "      <td>Subscriber</td>\n",
              "      <td>1998</td>\n",
              "      <td>2</td>\n",
              "    </tr>\n",
              "    <tr>\n",
              "      <th>2</th>\n",
              "      <td>770</td>\n",
              "      <td>2020-10-01 00:00:21.3070</td>\n",
              "      <td>2020-10-01 00:13:12.0840</td>\n",
              "      <td>354</td>\n",
              "      <td>Emerson Pl &amp; Myrtle Ave</td>\n",
              "      <td>40.693631</td>\n",
              "      <td>-73.962236</td>\n",
              "      <td>3761</td>\n",
              "      <td>Cedar St &amp; Myrtle Ave</td>\n",
              "      <td>40.697842</td>\n",
              "      <td>-73.926241</td>\n",
              "      <td>47398</td>\n",
              "      <td>Customer</td>\n",
              "      <td>1996</td>\n",
              "      <td>1</td>\n",
              "    </tr>\n",
              "    <tr>\n",
              "      <th>3</th>\n",
              "      <td>233</td>\n",
              "      <td>2020-10-01 00:00:25.0080</td>\n",
              "      <td>2020-10-01 00:04:18.6410</td>\n",
              "      <td>3141</td>\n",
              "      <td>1 Ave &amp; E 68 St</td>\n",
              "      <td>40.765005</td>\n",
              "      <td>-73.958185</td>\n",
              "      <td>464</td>\n",
              "      <td>E 56 St &amp; 3 Ave</td>\n",
              "      <td>40.759345</td>\n",
              "      <td>-73.967597</td>\n",
              "      <td>36482</td>\n",
              "      <td>Subscriber</td>\n",
              "      <td>1993</td>\n",
              "      <td>1</td>\n",
              "    </tr>\n",
              "    <tr>\n",
              "      <th>4</th>\n",
              "      <td>126</td>\n",
              "      <td>2020-10-01 00:00:25.3100</td>\n",
              "      <td>2020-10-01 00:02:32.1330</td>\n",
              "      <td>335</td>\n",
              "      <td>Washington Pl &amp; Broadway</td>\n",
              "      <td>40.729039</td>\n",
              "      <td>-73.994046</td>\n",
              "      <td>229</td>\n",
              "      <td>Great Jones St</td>\n",
              "      <td>40.727434</td>\n",
              "      <td>-73.993790</td>\n",
              "      <td>45319</td>\n",
              "      <td>Subscriber</td>\n",
              "      <td>1989</td>\n",
              "      <td>1</td>\n",
              "    </tr>\n",
              "  </tbody>\n",
              "</table>\n",
              "</div>\n",
              "    <div class=\"colab-df-buttons\">\n",
              "\n",
              "  <div class=\"colab-df-container\">\n",
              "    <button class=\"colab-df-convert\" onclick=\"convertToInteractive('df-b45970a5-d367-4fc8-acf7-391ec86fd17e')\"\n",
              "            title=\"Convert this dataframe to an interactive table.\"\n",
              "            style=\"display:none;\">\n",
              "\n",
              "  <svg xmlns=\"http://www.w3.org/2000/svg\" height=\"24px\" viewBox=\"0 -960 960 960\">\n",
              "    <path d=\"M120-120v-720h720v720H120Zm60-500h600v-160H180v160Zm220 220h160v-160H400v160Zm0 220h160v-160H400v160ZM180-400h160v-160H180v160Zm440 0h160v-160H620v160ZM180-180h160v-160H180v160Zm440 0h160v-160H620v160Z\"/>\n",
              "  </svg>\n",
              "    </button>\n",
              "\n",
              "  <style>\n",
              "    .colab-df-container {\n",
              "      display:flex;\n",
              "      gap: 12px;\n",
              "    }\n",
              "\n",
              "    .colab-df-convert {\n",
              "      background-color: #E8F0FE;\n",
              "      border: none;\n",
              "      border-radius: 50%;\n",
              "      cursor: pointer;\n",
              "      display: none;\n",
              "      fill: #1967D2;\n",
              "      height: 32px;\n",
              "      padding: 0 0 0 0;\n",
              "      width: 32px;\n",
              "    }\n",
              "\n",
              "    .colab-df-convert:hover {\n",
              "      background-color: #E2EBFA;\n",
              "      box-shadow: 0px 1px 2px rgba(60, 64, 67, 0.3), 0px 1px 3px 1px rgba(60, 64, 67, 0.15);\n",
              "      fill: #174EA6;\n",
              "    }\n",
              "\n",
              "    .colab-df-buttons div {\n",
              "      margin-bottom: 4px;\n",
              "    }\n",
              "\n",
              "    [theme=dark] .colab-df-convert {\n",
              "      background-color: #3B4455;\n",
              "      fill: #D2E3FC;\n",
              "    }\n",
              "\n",
              "    [theme=dark] .colab-df-convert:hover {\n",
              "      background-color: #434B5C;\n",
              "      box-shadow: 0px 1px 3px 1px rgba(0, 0, 0, 0.15);\n",
              "      filter: drop-shadow(0px 1px 2px rgba(0, 0, 0, 0.3));\n",
              "      fill: #FFFFFF;\n",
              "    }\n",
              "  </style>\n",
              "\n",
              "    <script>\n",
              "      const buttonEl =\n",
              "        document.querySelector('#df-b45970a5-d367-4fc8-acf7-391ec86fd17e button.colab-df-convert');\n",
              "      buttonEl.style.display =\n",
              "        google.colab.kernel.accessAllowed ? 'block' : 'none';\n",
              "\n",
              "      async function convertToInteractive(key) {\n",
              "        const element = document.querySelector('#df-b45970a5-d367-4fc8-acf7-391ec86fd17e');\n",
              "        const dataTable =\n",
              "          await google.colab.kernel.invokeFunction('convertToInteractive',\n",
              "                                                    [key], {});\n",
              "        if (!dataTable) return;\n",
              "\n",
              "        const docLinkHtml = 'Like what you see? Visit the ' +\n",
              "          '<a target=\"_blank\" href=https://colab.research.google.com/notebooks/data_table.ipynb>data table notebook</a>'\n",
              "          + ' to learn more about interactive tables.';\n",
              "        element.innerHTML = '';\n",
              "        dataTable['output_type'] = 'display_data';\n",
              "        await google.colab.output.renderOutput(dataTable, element);\n",
              "        const docLink = document.createElement('div');\n",
              "        docLink.innerHTML = docLinkHtml;\n",
              "        element.appendChild(docLink);\n",
              "      }\n",
              "    </script>\n",
              "  </div>\n",
              "\n",
              "\n",
              "<div id=\"df-1e08fccd-c798-4503-b141-a6fb6e92f39a\">\n",
              "  <button class=\"colab-df-quickchart\" onclick=\"quickchart('df-1e08fccd-c798-4503-b141-a6fb6e92f39a')\"\n",
              "            title=\"Suggest charts\"\n",
              "            style=\"display:none;\">\n",
              "\n",
              "<svg xmlns=\"http://www.w3.org/2000/svg\" height=\"24px\"viewBox=\"0 0 24 24\"\n",
              "     width=\"24px\">\n",
              "    <g>\n",
              "        <path d=\"M19 3H5c-1.1 0-2 .9-2 2v14c0 1.1.9 2 2 2h14c1.1 0 2-.9 2-2V5c0-1.1-.9-2-2-2zM9 17H7v-7h2v7zm4 0h-2V7h2v10zm4 0h-2v-4h2v4z\"/>\n",
              "    </g>\n",
              "</svg>\n",
              "  </button>\n",
              "\n",
              "<style>\n",
              "  .colab-df-quickchart {\n",
              "      --bg-color: #E8F0FE;\n",
              "      --fill-color: #1967D2;\n",
              "      --hover-bg-color: #E2EBFA;\n",
              "      --hover-fill-color: #174EA6;\n",
              "      --disabled-fill-color: #AAA;\n",
              "      --disabled-bg-color: #DDD;\n",
              "  }\n",
              "\n",
              "  [theme=dark] .colab-df-quickchart {\n",
              "      --bg-color: #3B4455;\n",
              "      --fill-color: #D2E3FC;\n",
              "      --hover-bg-color: #434B5C;\n",
              "      --hover-fill-color: #FFFFFF;\n",
              "      --disabled-bg-color: #3B4455;\n",
              "      --disabled-fill-color: #666;\n",
              "  }\n",
              "\n",
              "  .colab-df-quickchart {\n",
              "    background-color: var(--bg-color);\n",
              "    border: none;\n",
              "    border-radius: 50%;\n",
              "    cursor: pointer;\n",
              "    display: none;\n",
              "    fill: var(--fill-color);\n",
              "    height: 32px;\n",
              "    padding: 0;\n",
              "    width: 32px;\n",
              "  }\n",
              "\n",
              "  .colab-df-quickchart:hover {\n",
              "    background-color: var(--hover-bg-color);\n",
              "    box-shadow: 0 1px 2px rgba(60, 64, 67, 0.3), 0 1px 3px 1px rgba(60, 64, 67, 0.15);\n",
              "    fill: var(--button-hover-fill-color);\n",
              "  }\n",
              "\n",
              "  .colab-df-quickchart-complete:disabled,\n",
              "  .colab-df-quickchart-complete:disabled:hover {\n",
              "    background-color: var(--disabled-bg-color);\n",
              "    fill: var(--disabled-fill-color);\n",
              "    box-shadow: none;\n",
              "  }\n",
              "\n",
              "  .colab-df-spinner {\n",
              "    border: 2px solid var(--fill-color);\n",
              "    border-color: transparent;\n",
              "    border-bottom-color: var(--fill-color);\n",
              "    animation:\n",
              "      spin 1s steps(1) infinite;\n",
              "  }\n",
              "\n",
              "  @keyframes spin {\n",
              "    0% {\n",
              "      border-color: transparent;\n",
              "      border-bottom-color: var(--fill-color);\n",
              "      border-left-color: var(--fill-color);\n",
              "    }\n",
              "    20% {\n",
              "      border-color: transparent;\n",
              "      border-left-color: var(--fill-color);\n",
              "      border-top-color: var(--fill-color);\n",
              "    }\n",
              "    30% {\n",
              "      border-color: transparent;\n",
              "      border-left-color: var(--fill-color);\n",
              "      border-top-color: var(--fill-color);\n",
              "      border-right-color: var(--fill-color);\n",
              "    }\n",
              "    40% {\n",
              "      border-color: transparent;\n",
              "      border-right-color: var(--fill-color);\n",
              "      border-top-color: var(--fill-color);\n",
              "    }\n",
              "    60% {\n",
              "      border-color: transparent;\n",
              "      border-right-color: var(--fill-color);\n",
              "    }\n",
              "    80% {\n",
              "      border-color: transparent;\n",
              "      border-right-color: var(--fill-color);\n",
              "      border-bottom-color: var(--fill-color);\n",
              "    }\n",
              "    90% {\n",
              "      border-color: transparent;\n",
              "      border-bottom-color: var(--fill-color);\n",
              "    }\n",
              "  }\n",
              "</style>\n",
              "\n",
              "  <script>\n",
              "    async function quickchart(key) {\n",
              "      const quickchartButtonEl =\n",
              "        document.querySelector('#' + key + ' button');\n",
              "      quickchartButtonEl.disabled = true;  // To prevent multiple clicks.\n",
              "      quickchartButtonEl.classList.add('colab-df-spinner');\n",
              "      try {\n",
              "        const charts = await google.colab.kernel.invokeFunction(\n",
              "            'suggestCharts', [key], {});\n",
              "      } catch (error) {\n",
              "        console.error('Error during call to suggestCharts:', error);\n",
              "      }\n",
              "      quickchartButtonEl.classList.remove('colab-df-spinner');\n",
              "      quickchartButtonEl.classList.add('colab-df-quickchart-complete');\n",
              "    }\n",
              "    (() => {\n",
              "      let quickchartButtonEl =\n",
              "        document.querySelector('#df-1e08fccd-c798-4503-b141-a6fb6e92f39a button');\n",
              "      quickchartButtonEl.style.display =\n",
              "        google.colab.kernel.accessAllowed ? 'block' : 'none';\n",
              "    })();\n",
              "  </script>\n",
              "</div>\n",
              "    </div>\n",
              "  </div>\n"
            ]
          },
          "metadata": {},
          "execution_count": 7
        }
      ],
      "source": [
        "citybike.head()"
      ]
    },
    {
      "cell_type": "markdown",
      "metadata": {
        "id": "chK-TpUlgUeI"
      },
      "source": [
        "1. Find the total number of records and columns as well as statistics \"describe\" of the data."
      ]
    },
    {
      "cell_type": "code",
      "execution_count": 8,
      "metadata": {
        "scrolled": true,
        "id": "bX54NLnEgUeK",
        "colab": {
          "base_uri": "https://localhost:8080/"
        },
        "outputId": "3ecbab44-881c-469a-ef9a-5ee99ca9c695"
      },
      "outputs": [
        {
          "output_type": "stream",
          "name": "stdout",
          "text": [
            "number of records:  2248869\n",
            "number of columns:  15\n"
          ]
        }
      ],
      "source": [
        "a=citybike.shape\n",
        "print('number of records: ',a[0])\n",
        "print('number of columns: ',a[1])"
      ]
    },
    {
      "cell_type": "code",
      "source": [
        "citybike.describe"
      ],
      "metadata": {
        "id": "QcDAtnZbtD_F",
        "colab": {
          "base_uri": "https://localhost:8080/"
        },
        "outputId": "4bb9c017-6b49-47f1-ac91-a6bf4a911210"
      },
      "execution_count": 9,
      "outputs": [
        {
          "output_type": "execute_result",
          "data": {
            "text/plain": [
              "<bound method NDFrame.describe of          tripduration                 starttime                  stoptime  \\\n",
              "0                1403  2020-10-01 00:00:10.7870  2020-10-01 00:23:34.5400   \n",
              "1                 462  2020-10-01 00:00:18.2390  2020-10-01 00:08:00.5710   \n",
              "2                 770  2020-10-01 00:00:21.3070  2020-10-01 00:13:12.0840   \n",
              "3                 233  2020-10-01 00:00:25.0080  2020-10-01 00:04:18.6410   \n",
              "4                 126  2020-10-01 00:00:25.3100  2020-10-01 00:02:32.1330   \n",
              "...               ...                       ...                       ...   \n",
              "2248864          1120  2020-10-31 23:59:48.4470  2020-11-01 00:18:29.3280   \n",
              "2248865           859  2020-10-31 23:59:49.3770  2020-11-01 00:14:09.1920   \n",
              "2248866           546  2020-10-31 23:59:52.1040  2020-11-01 00:08:59.0710   \n",
              "2248867           748  2020-10-31 23:59:53.0290  2020-11-01 00:12:21.7830   \n",
              "2248868          1366  2020-10-31 23:59:57.9770  2020-11-01 00:22:44.1290   \n",
              "\n",
              "         start station id                  start station name  \\\n",
              "0                     224               Spruce St & Nassau St   \n",
              "1                    3161              W 76 St & Columbus Ave   \n",
              "2                     354             Emerson Pl & Myrtle Ave   \n",
              "3                    3141                     1 Ave & E 68 St   \n",
              "4                     335            Washington Pl & Broadway   \n",
              "...                   ...                                 ...   \n",
              "2248864               471             Grand St & Havemeyer St   \n",
              "2248865              4005  St. Nicholas Terrace & Convent Ave   \n",
              "2248866              4010            W 145 St & Amsterdam Ave   \n",
              "2248867              3783                Cliff St & Fulton St   \n",
              "2248868               402                  Broadway & E 22 St   \n",
              "\n",
              "         start station latitude  start station longitude  end station id  \\\n",
              "0                     40.711464               -74.005524            3347   \n",
              "1                     40.780184               -73.977285            3158   \n",
              "2                     40.693631               -73.962236            3761   \n",
              "3                     40.765005               -73.958185             464   \n",
              "4                     40.729039               -73.994046             229   \n",
              "...                         ...                      ...             ...   \n",
              "2248864               40.712868               -73.956981            3764   \n",
              "2248865               40.821294               -73.947868            3960   \n",
              "2248866               40.825244               -73.947257            4057   \n",
              "2248867               40.708380               -74.004950             432   \n",
              "2248868               40.740343               -73.989551             468   \n",
              "\n",
              "                   end station name  end station latitude  \\\n",
              "0         Van Brunt St & Wolcott St             40.677343   \n",
              "1                W 63 St & Broadway             40.771639   \n",
              "2             Cedar St & Myrtle Ave             40.697842   \n",
              "3                   E 56 St & 3 Ave             40.759345   \n",
              "4                    Great Jones St             40.727434   \n",
              "...                             ...                   ...   \n",
              "2248864  Bushwick Ave & McKibbin St             40.705517   \n",
              "2248865      Hamilton Pl & W 140 St             40.822756   \n",
              "2248866    Amsterdam Ave & W 167 St             40.839443   \n",
              "2248867           E 7 St & Avenue A             40.726218   \n",
              "2248868          Broadway & W 56 St             40.765265   \n",
              "\n",
              "         end station longitude  bikeid    usertype  birth year  gender  \n",
              "0                   -74.012751   39079  Subscriber        1995       1  \n",
              "1                   -73.982614   41267  Subscriber        1998       2  \n",
              "2                   -73.926241   47398    Customer        1996       1  \n",
              "3                   -73.967597   36482  Subscriber        1993       1  \n",
              "4                   -73.993790   45319  Subscriber        1989       1  \n",
              "...                        ...     ...         ...         ...     ...  \n",
              "2248864             -73.939360   35356    Customer        1996       1  \n",
              "2248865             -73.951346   48322    Customer        1999       1  \n",
              "2248866             -73.937044   44589  Subscriber        1976       1  \n",
              "2248867             -73.983799   48511  Subscriber        1997       2  \n",
              "2248868             -73.981923   37248  Subscriber        1974       2  \n",
              "\n",
              "[2248869 rows x 15 columns]>"
            ]
          },
          "metadata": {},
          "execution_count": 9
        }
      ]
    },
    {
      "cell_type": "markdown",
      "source": [
        "2. Scatter plot data detween 'birth year' and 'tripduration' (use a **DF.plot.scatter**, s = 100) as well as **DF.plot.hist** of 'birth year' collumn into number of bins from your internal code 2 last digits xxxXX (bins=XX)."
      ],
      "metadata": {
        "id": "RyDdSj4aS9Rj"
      }
    },
    {
      "cell_type": "code",
      "source": [
        "citybike.plot.scatter(x='birth year',y='tripduration',s=100)"
      ],
      "metadata": {
        "id": "m2prralvq5Ot",
        "colab": {
          "base_uri": "https://localhost:8080/",
          "height": 483
        },
        "outputId": "8ccfd4fa-6c61-4919-eb58-8d0e2f7e86ef"
      },
      "execution_count": 10,
      "outputs": [
        {
          "output_type": "execute_result",
          "data": {
            "text/plain": [
              "<Axes: xlabel='birth year', ylabel='tripduration'>"
            ]
          },
          "metadata": {},
          "execution_count": 10
        },
        {
          "output_type": "display_data",
          "data": {
            "text/plain": [
              "<Figure size 640x480 with 1 Axes>"
            ],
            "image/png": "[encoded data removed]"
          },
          "metadata": {}
        }
      ]
    },
    {
      "cell_type": "markdown",
      "source": [
        "."
      ],
      "metadata": {
        "id": "dkBYTyLX5m-_"
      }
    },
    {
      "cell_type": "markdown",
      "source": [
        "."
      ],
      "metadata": {
        "id": "uwZrYkNq5nfA"
      }
    },
    {
      "cell_type": "markdown",
      "source": [
        "."
      ],
      "metadata": {
        "id": "SbC6vgbF5ntw"
      }
    },
    {
      "cell_type": "code",
      "source": [
        "citybike['birth year'].plot.hist(by=None, bins=6) #paskutiniai du skaičiai 06"
      ],
      "metadata": {
        "id": "XiPc72RCT6jm",
        "colab": {
          "base_uri": "https://localhost:8080/",
          "height": 463
        },
        "outputId": "4f190e3c-ac0c-49f0-b941-4adf05adc67b"
      },
      "execution_count": 11,
      "outputs": [
        {
          "output_type": "execute_result",
          "data": {
            "text/plain": [
              "<Axes: ylabel='Frequency'>"
            ]
          },
          "metadata": {},
          "execution_count": 11
        },
        {
          "output_type": "display_data",
          "data": {
            "text/plain": [
              "<Figure size 640x480 with 1 Axes>"
            ],
            "image/png": "[encoded data removed]"
          },
          "metadata": {}
        }
      ]
    },
    {
      "cell_type": "markdown",
      "metadata": {
        "id": "PqOOmUUDgUeM"
      },
      "source": [
        "\n",
        "Find average trip duration in minutes (column: tripduration) with 2 numbers precision (use 'round' function)."
      ]
    },
    {
      "cell_type": "code",
      "execution_count": 12,
      "metadata": {
        "id": "VO7ZZCgdgUeO",
        "colab": {
          "base_uri": "https://localhost:8080/"
        },
        "outputId": "f3881c8e-6712-42a8-934f-387ab7582e08"
      },
      "outputs": [
        {
          "output_type": "stream",
          "name": "stdout",
          "text": [
            "20.22\n"
          ]
        }
      ],
      "source": [
        "avr_duration=round(citybike['tripduration'].mean()/60,2)\n",
        "print(avr_duration)"
      ]
    },
    {
      "cell_type": "markdown",
      "metadata": {
        "id": "GR5YsEu2gUeQ"
      },
      "source": [
        "How many trips have started and ended at the same station?"
      ]
    },
    {
      "cell_type": "code",
      "execution_count": 13,
      "metadata": {
        "id": "GpBZel6rgUeS",
        "colab": {
          "base_uri": "https://localhost:8080/"
        },
        "outputId": "6c340ed9-8283-4273-981e-ff026ac8d54c"
      },
      "outputs": [
        {
          "output_type": "stream",
          "name": "stdout",
          "text": [
            "88632\n"
          ]
        }
      ],
      "source": [
        "trips=citybike[(citybike['start station id'] == citybike['end station id'])].shape\n",
        "print(trips[0])"
      ]
    },
    {
      "cell_type": "markdown",
      "metadata": {
        "id": "92RnfB4-gUeT"
      },
      "source": [
        "How many trips have stared and ended at the same station with the UNIQUE bike_ID? (i.e. DF.unique().shape)"
      ]
    },
    {
      "cell_type": "code",
      "execution_count": 14,
      "metadata": {
        "id": "t1n3AKbdgUeU",
        "colab": {
          "base_uri": "https://localhost:8080/"
        },
        "outputId": "5c26b460-80f5-4a1a-984c-23bacbd6c7a4"
      },
      "outputs": [
        {
          "output_type": "stream",
          "name": "stdout",
          "text": [
            "17145\n"
          ]
        }
      ],
      "source": [
        "unique_trips=citybike[(citybike['start station id'] == citybike['end station id'])]['bikeid'].unique().shape\n",
        "print(unique_trips[0])"
      ]
    },
    {
      "cell_type": "markdown",
      "metadata": {
        "id": "6uXpvSXogUeV"
      },
      "source": [
        "Which bike was most offten used (bikeid) in a town and how many times?"
      ]
    },
    {
      "cell_type": "code",
      "execution_count": 15,
      "metadata": {
        "id": "Qi438As7gUeW",
        "colab": {
          "base_uri": "https://localhost:8080/"
        },
        "outputId": "45cb172e-657e-41d5-ce05-c650c9780a7d"
      },
      "outputs": [
        {
          "output_type": "stream",
          "name": "stdout",
          "text": [
            "The bikeid of the most used bike:  36074\n",
            "Times used:  451\n"
          ]
        }
      ],
      "source": [
        "max_bike_ID=citybike['bikeid'].value_counts().keys().tolist()\n",
        "times_used=citybike['bikeid'].value_counts().tolist()\n",
        "print('The bikeid of the most used bike: ' ,max_bike_ID[0])\n",
        "print('Times used: ',times_used[0])"
      ]
    },
    {
      "cell_type": "markdown",
      "metadata": {
        "id": "es7dMXWagUeX"
      },
      "source": [
        "Find a bike (bikeid), who had the longest trip duration on average. (i.e. use a **DF.mean()** and **sort_values()**)"
      ]
    },
    {
      "cell_type": "code",
      "execution_count": 16,
      "metadata": {
        "scrolled": true,
        "id": "kaSp5KGdgUeY",
        "colab": {
          "base_uri": "https://localhost:8080/"
        },
        "outputId": "0effbbaa-ee96-4b29-ecc1-accc05daa43a"
      },
      "outputs": [
        {
          "output_type": "stream",
          "name": "stdout",
          "text": [
            "Bikeid of the bike:  41672\n"
          ]
        }
      ],
      "source": [
        "avr_trip_times=citybike.groupby('bikeid')['tripduration'].mean().sort_values(ascending=False)\n",
        "longest_duration_bikeid=avr_trip_times.keys().tolist()\n",
        "print('Bikeid of the bike: ' ,longest_duration_bikeid[0])"
      ]
    },
    {
      "cell_type": "markdown",
      "metadata": {
        "id": "LEmtA9-zgUeZ"
      },
      "source": [
        "Find the number of missing records (i.e. null) in the column 'start station id'."
      ]
    },
    {
      "cell_type": "code",
      "execution_count": 17,
      "metadata": {
        "id": "ugWv2YylgUea",
        "colab": {
          "base_uri": "https://localhost:8080/"
        },
        "outputId": "b13c295e-f81d-4ce5-aaf2-e573dd2a91e9"
      },
      "outputs": [
        {
          "output_type": "stream",
          "name": "stdout",
          "text": [
            "Number of missing records:  0\n"
          ]
        }
      ],
      "source": [
        "null_times=citybike[citybike['start station id'].isnull()].shape\n",
        "print('Number of missing records: ',null_times[0])"
      ]
    },
    {
      "cell_type": "markdown",
      "metadata": {
        "id": "btxb5KB1gUec"
      },
      "source": [
        "Find the average distance between stations (apriory removing lines: start station id = end station id).\n",
        "\n",
        "Hint: use the library **geopy** and distance measure **geodesic** (min distance between two geo locations) p.s.: https://geopy.readthedocs.io/en/stable/#module-geopy.distance\n"
      ]
    },
    {
      "cell_type": "code",
      "execution_count": 18,
      "metadata": {
        "id": "QlJBYlcRgUed"
      },
      "outputs": [],
      "source": [
        "citybike['distance_km'] = citybike.apply(lambda x: geodesic((x['start station latitude'], x['start station longitude']),\n",
        "                                                            (x['end station latitude'], x['end station longitude'])).kilometers, axis=1)\n",
        "\n",
        "\n"
      ]
    },
    {
      "cell_type": "code",
      "source": [
        "print('average distance: ' ,citybike['distance_km'].mean())\n"
      ],
      "metadata": {
        "id": "kGsLIn5lwJkF",
        "colab": {
          "base_uri": "https://localhost:8080/"
        },
        "outputId": "16e48059-b17b-4d31-abed-b093e218d001"
      },
      "execution_count": 19,
      "outputs": [
        {
          "output_type": "stream",
          "name": "stdout",
          "text": [
            "average distance:  2.110053167630986\n"
          ]
        }
      ]
    }
  ],
  "metadata": {
    "kernelspec": {
      "display_name": "Python 3",
      "language": "python",
      "name": "python3"
    },
    "language_info": {
      "codemirror_mode": {
        "name": "ipython",
        "version": 3
      },
      "file_extension": ".py",
      "mimetype": "text/x-python",
      "name": "python",
      "nbconvert_exporter": "python",
      "pygments_lexer": "ipython3",
      "version": "3.5.2"
    },
    "toc": {
      "nav_menu": {},
      "number_sections": true,
      "sideBar": true,
      "skip_h1_title": false,
      "toc_cell": false,
      "toc_position": {},
      "toc_section_display": "block",
      "toc_window_display": false
    },
    "varInspector": {
      "cols": {
        "lenName": 16,
        "lenType": 16,
        "lenVar": 40
      },
      "kernels_config": {
        "python": {
          "delete_cmd_postfix": "",
          "delete_cmd_prefix": "del ",
          "library": "var_list.py",
          "varRefreshCmd": "print(var_dic_list())"
        },
        "r": {
          "delete_cmd_postfix": ") ",
          "delete_cmd_prefix": "rm(",
          "library": "var_list.r",
          "varRefreshCmd": "cat(var_dic_list()) "
        }
      },
      "types_to_exclude": [
        "module",
        "function",
        "builtin_function_or_method",
        "instance",
        "_Feature"
      ],
      "window_display": false
    },
    "colab": {
      "provenance": [],
      "include_colab_link": true
    }
  },
  "nbformat": 4,
  "nbformat_minor": 0
}